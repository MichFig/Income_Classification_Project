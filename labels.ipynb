{
 "metadata": {
  "language_info": {
   "codemirror_mode": {
    "name": "ipython",
    "version": 3
   },
   "file_extension": ".py",
   "mimetype": "text/x-python",
   "name": "python",
   "nbconvert_exporter": "python",
   "pygments_lexer": "ipython3",
   "version": "3.6.13"
  },
  "orig_nbformat": 2,
  "kernelspec": {
   "name": "python3613jvsc74a57bd0931f5c7d5003f233dddb86e35437c7b653d735f440e4a8e962f913485bc47f21",
   "display_name": "Python 3.6.13 64-bit ('PythonAdv': conda)"
  }
 },
 "nbformat": 4,
 "nbformat_minor": 2,
 "cells": [
  {
   "cell_type": "code",
   "execution_count": 1,
   "metadata": {},
   "outputs": [],
   "source": [
    "import pandas as pd \n",
    "import numpy as np "
   ]
  },
  {
   "cell_type": "code",
   "execution_count": 2,
   "metadata": {},
   "outputs": [],
   "source": [
    "file = 'static/data/income_evaluation.csv'\n",
    "data = pd.read_csv(file)"
   ]
  },
  {
   "cell_type": "code",
   "execution_count": 3,
   "metadata": {},
   "outputs": [],
   "source": [
    "education = data['education'].unique()\n",
    "ed_num = data['education-num'].unique()\n",
    "EducationLabels = dict(zip(education,ed_num))"
   ]
  },
  {
   "cell_type": "code",
   "execution_count": 14,
   "metadata": {},
   "outputs": [
    {
     "output_type": "execute_result",
     "data": {
      "text/plain": [
       "{' State-gov': 0,\n",
       " ' Self-emp-not-inc': 1,\n",
       " ' Private': 2,\n",
       " ' Federal-gov': 3,\n",
       " ' Local-gov': 4,\n",
       " ' ?': 5,\n",
       " ' Self-emp-inc': 6,\n",
       " ' Without-pay': 7,\n",
       " ' Never-worked': 8}"
      ]
     },
     "metadata": {},
     "execution_count": 14
    }
   ],
   "source": [
    "working_class = data['workclass'].unique()\n",
    "working_class\n",
    "EmploymentLabels = {}\n",
    "for workclass in working_class:\n",
    "    result = np.where((working_class==workclass))\n",
    "    EmploymentLabels[workclass] = result[0][0]\n",
    "EmploymentLabels"
   ]
  },
  {
   "cell_type": "code",
   "execution_count": 13,
   "metadata": {},
   "outputs": [
    {
     "output_type": "execute_result",
     "data": {
      "text/plain": [
       "{' Never-married': 0,\n",
       " ' Married-civ-spouse': 1,\n",
       " ' Divorced': 2,\n",
       " ' Married-spouse-absent': 3,\n",
       " ' Separated': 4,\n",
       " ' Married-AF-spouse': 5,\n",
       " ' Widowed': 6}"
      ]
     },
     "metadata": {},
     "execution_count": 13
    }
   ],
   "source": [
    "marital_statuses = data['marital-status'].unique()\n",
    "MaritalLabels = {}\n",
    "for status in marital_statuses:\n",
    "    result = np.where((marital_statuses==status))\n",
    "    MaritalLabels[status] = result[0][0]\n",
    "MaritalLabels"
   ]
  },
  {
   "cell_type": "code",
   "execution_count": 12,
   "metadata": {},
   "outputs": [
    {
     "output_type": "execute_result",
     "data": {
      "text/plain": [
       "{' Adm-clerical': 0,\n",
       " ' Exec-managerial': 1,\n",
       " ' Handlers-cleaners': 2,\n",
       " ' Prof-specialty': 3,\n",
       " ' Other-service': 4,\n",
       " ' Sales': 5,\n",
       " ' Craft-repair': 6,\n",
       " ' Transport-moving': 7,\n",
       " ' Farming-fishing': 8,\n",
       " ' Machine-op-inspct': 9,\n",
       " ' Tech-support': 10,\n",
       " ' ?': 11,\n",
       " ' Protective-serv': 12,\n",
       " ' Armed-Forces': 13,\n",
       " ' Priv-house-serv': 14}"
      ]
     },
     "metadata": {},
     "execution_count": 12
    }
   ],
   "source": [
    "occupations = data['occupation'].unique()\n",
    "OccupationLabels = {}\n",
    "for occupation in occupations:\n",
    "    result = np.where((occupations==occupation))\n",
    "    OccupationLabels[occupation] = result[0][0]\n",
    "OccupationLabels"
   ]
  },
  {
   "cell_type": "code",
   "execution_count": 7,
   "metadata": {},
   "outputs": [],
   "source": [
    "relationships = data['relationship'].unique()\n",
    "RelationshipLabels = {}\n",
    "for relationship in relationships:\n",
    "    result = np.where((relationships==relationship))\n",
    "    RelationshipLabels[relationship] = result[0][0]"
   ]
  },
  {
   "cell_type": "code",
   "execution_count": 11,
   "metadata": {},
   "outputs": [
    {
     "output_type": "execute_result",
     "data": {
      "text/plain": [
       "{' White': 0,\n",
       " ' Black': 1,\n",
       " ' Asian-Pac-Islander': 2,\n",
       " ' Amer-Indian-Eskimo': 3,\n",
       " ' Other': 4}"
      ]
     },
     "metadata": {},
     "execution_count": 11
    }
   ],
   "source": [
    "races = data['race'].unique()\n",
    "RaceLabels = {}\n",
    "for race in races:\n",
    "    result = np.where((races==race))\n",
    "    RaceLabels[race] = result[0][0]\n",
    "RaceLabels"
   ]
  },
  {
   "cell_type": "code",
   "execution_count": 15,
   "metadata": {},
   "outputs": [
    {
     "output_type": "execute_result",
     "data": {
      "text/plain": [
       "{' Male': 0, ' Female': 1}"
      ]
     },
     "metadata": {},
     "execution_count": 15
    }
   ],
   "source": [
    "sexes = data['sex'].unique()\n",
    "SexLabels = {}\n",
    "for sex in sexes:\n",
    "    result = np.where((sexes==sex))\n",
    "    SexLabels[sex] = result[0][0]\n",
    "SexLabels"
   ]
  },
  {
   "cell_type": "code",
   "execution_count": 17,
   "metadata": {},
   "outputs": [
    {
     "output_type": "execute_result",
     "data": {
      "text/plain": [
       "{' United-States': 0,\n",
       " ' Cuba': 1,\n",
       " ' Jamaica': 2,\n",
       " ' India': 3,\n",
       " ' ?': 4,\n",
       " ' Mexico': 5,\n",
       " ' South': 6,\n",
       " ' Puerto-Rico': 7,\n",
       " ' Honduras': 8,\n",
       " ' England': 9,\n",
       " ' Canada': 10,\n",
       " ' Germany': 11,\n",
       " ' Iran': 12,\n",
       " ' Philippines': 13,\n",
       " ' Italy': 14,\n",
       " ' Poland': 15,\n",
       " ' Columbia': 16,\n",
       " ' Cambodia': 17,\n",
       " ' Thailand': 18,\n",
       " ' Ecuador': 19,\n",
       " ' Laos': 20,\n",
       " ' Taiwan': 21,\n",
       " ' Haiti': 22,\n",
       " ' Portugal': 23,\n",
       " ' Dominican-Republic': 24,\n",
       " ' El-Salvador': 25,\n",
       " ' France': 26,\n",
       " ' Guatemala': 27,\n",
       " ' China': 28,\n",
       " ' Japan': 29,\n",
       " ' Yugoslavia': 30,\n",
       " ' Peru': 31,\n",
       " ' Outlying-US(Guam-USVI-etc)': 32,\n",
       " ' Scotland': 33,\n",
       " ' Trinadad&Tobago': 34,\n",
       " ' Greece': 35,\n",
       " ' Nicaragua': 36,\n",
       " ' Vietnam': 37,\n",
       " ' Hong': 38,\n",
       " ' Ireland': 39,\n",
       " ' Hungary': 40,\n",
       " ' Holand-Netherlands': 41}"
      ]
     },
     "metadata": {},
     "execution_count": 17
    }
   ],
   "source": [
    "countries = data['native-country'].unique()\n",
    "CountryLabels = {}\n",
    "for country in countries:\n",
    "    result = np.where((countries==country))\n",
    "    CountryLabels[country] = result[0][0]\n",
    "CountryLabels"
   ]
  },
  {
   "cell_type": "code",
   "execution_count": null,
   "metadata": {},
   "outputs": [],
   "source": []
  }
 ]
}