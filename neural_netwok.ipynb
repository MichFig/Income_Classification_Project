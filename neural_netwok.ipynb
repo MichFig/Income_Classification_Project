{
 "cells": [
  {
   "cell_type": "code",
   "execution_count": 1,
   "id": "hydraulic-compromise",
   "metadata": {},
   "outputs": [],
   "source": [
    "%matplotlib inline\n",
    "import matplotlib.pyplot as plt\n",
    "from sklearn import tree\n",
    "import pandas as pd\n",
    "import numpy as np\n",
    "import os"
   ]
  },
  {
   "cell_type": "code",
   "execution_count": 2,
   "id": "backed-pasta",
   "metadata": {},
   "outputs": [
    {
     "output_type": "execute_result",
     "data": {
      "text/plain": [
       "   age          workclass  fnlwgt   education  education-num  \\\n",
       "0   39          State-gov   77516   Bachelors             13   \n",
       "1   50   Self-emp-not-inc   83311   Bachelors             13   \n",
       "2   38            Private  215646     HS-grad              9   \n",
       "3   53            Private  234721        11th              7   \n",
       "4   28            Private  338409   Bachelors             13   \n",
       "\n",
       "        marital-status          occupation    relationship    race      sex  \\\n",
       "0        Never-married        Adm-clerical   Not-in-family   White     Male   \n",
       "1   Married-civ-spouse     Exec-managerial         Husband   White     Male   \n",
       "2             Divorced   Handlers-cleaners   Not-in-family   White     Male   \n",
       "3   Married-civ-spouse   Handlers-cleaners         Husband   Black     Male   \n",
       "4   Married-civ-spouse      Prof-specialty            Wife   Black   Female   \n",
       "\n",
       "   capital-gain  capital-loss  hours-per-week  native-country  income  \n",
       "0          2174             0              40   United-States   <=50K  \n",
       "1             0             0              13   United-States   <=50K  \n",
       "2             0             0              40   United-States   <=50K  \n",
       "3             0             0              40   United-States   <=50K  \n",
       "4             0             0              40            Cuba   <=50K  "
      ],
      "text/html": "<div>\n<style scoped>\n    .dataframe tbody tr th:only-of-type {\n        vertical-align: middle;\n    }\n\n    .dataframe tbody tr th {\n        vertical-align: top;\n    }\n\n    .dataframe thead th {\n        text-align: right;\n    }\n</style>\n<table border=\"1\" class=\"dataframe\">\n  <thead>\n    <tr style=\"text-align: right;\">\n      <th></th>\n      <th>age</th>\n      <th>workclass</th>\n      <th>fnlwgt</th>\n      <th>education</th>\n      <th>education-num</th>\n      <th>marital-status</th>\n      <th>occupation</th>\n      <th>relationship</th>\n      <th>race</th>\n      <th>sex</th>\n      <th>capital-gain</th>\n      <th>capital-loss</th>\n      <th>hours-per-week</th>\n      <th>native-country</th>\n      <th>income</th>\n    </tr>\n  </thead>\n  <tbody>\n    <tr>\n      <th>0</th>\n      <td>39</td>\n      <td>State-gov</td>\n      <td>77516</td>\n      <td>Bachelors</td>\n      <td>13</td>\n      <td>Never-married</td>\n      <td>Adm-clerical</td>\n      <td>Not-in-family</td>\n      <td>White</td>\n      <td>Male</td>\n      <td>2174</td>\n      <td>0</td>\n      <td>40</td>\n      <td>United-States</td>\n      <td>&lt;=50K</td>\n    </tr>\n    <tr>\n      <th>1</th>\n      <td>50</td>\n      <td>Self-emp-not-inc</td>\n      <td>83311</td>\n      <td>Bachelors</td>\n      <td>13</td>\n      <td>Married-civ-spouse</td>\n      <td>Exec-managerial</td>\n      <td>Husband</td>\n      <td>White</td>\n      <td>Male</td>\n      <td>0</td>\n      <td>0</td>\n      <td>13</td>\n      <td>United-States</td>\n      <td>&lt;=50K</td>\n    </tr>\n    <tr>\n      <th>2</th>\n      <td>38</td>\n      <td>Private</td>\n      <td>215646</td>\n      <td>HS-grad</td>\n      <td>9</td>\n      <td>Divorced</td>\n      <td>Handlers-cleaners</td>\n      <td>Not-in-family</td>\n      <td>White</td>\n      <td>Male</td>\n      <td>0</td>\n      <td>0</td>\n      <td>40</td>\n      <td>United-States</td>\n      <td>&lt;=50K</td>\n    </tr>\n    <tr>\n      <th>3</th>\n      <td>53</td>\n      <td>Private</td>\n      <td>234721</td>\n      <td>11th</td>\n      <td>7</td>\n      <td>Married-civ-spouse</td>\n      <td>Handlers-cleaners</td>\n      <td>Husband</td>\n      <td>Black</td>\n      <td>Male</td>\n      <td>0</td>\n      <td>0</td>\n      <td>40</td>\n      <td>United-States</td>\n      <td>&lt;=50K</td>\n    </tr>\n    <tr>\n      <th>4</th>\n      <td>28</td>\n      <td>Private</td>\n      <td>338409</td>\n      <td>Bachelors</td>\n      <td>13</td>\n      <td>Married-civ-spouse</td>\n      <td>Prof-specialty</td>\n      <td>Wife</td>\n      <td>Black</td>\n      <td>Female</td>\n      <td>0</td>\n      <td>0</td>\n      <td>40</td>\n      <td>Cuba</td>\n      <td>&lt;=50K</td>\n    </tr>\n  </tbody>\n</table>\n</div>"
     },
     "metadata": {},
     "execution_count": 2
    }
   ],
   "source": [
    "file = 'static/data/income_evaluation.csv'\n",
    "data = pd.read_csv(file)\n",
    "data.head()"
   ]
  },
  {
   "cell_type": "code",
   "execution_count": 3,
   "id": "inclusive-dimension",
   "metadata": {},
   "outputs": [],
   "source": [
    "data_with_labels = data"
   ]
  },
  {
   "cell_type": "code",
   "execution_count": 4,
   "id": "grateful-politics",
   "metadata": {},
   "outputs": [],
   "source": [
    "working_class = data['workclass'].unique()\n",
    "working_class\n",
    "EmploymentLabels = {}\n",
    "for workclass in working_class:\n",
    "    result = np.where((working_class==workclass))\n",
    "    EmploymentLabels[workclass] = result[0][0]\n",
    "data_with_labels['workclassLabels'] = data_with_labels['workclass']\n",
    "data_with_labels['workclassLabels'] = data['workclassLabels'].map(EmploymentLabels) "
   ]
  },
  {
   "cell_type": "code",
   "execution_count": 5,
   "id": "strong-fireplace",
   "metadata": {},
   "outputs": [],
   "source": [
    "marital_statuses = data['marital-status'].unique()\n",
    "MaritalLabels = {}\n",
    "for status in marital_statuses:\n",
    "    result = np.where((marital_statuses==status))\n",
    "    MaritalLabels[status] = result[0][0]\n",
    "data_with_labels['maritalLabels'] = data_with_labels['marital-status']\n",
    "data_with_labels['maritalLabels'] = data['maritalLabels'].map(MaritalLabels) "
   ]
  },
  {
   "cell_type": "code",
   "execution_count": 6,
   "id": "descending-recovery",
   "metadata": {},
   "outputs": [],
   "source": [
    "occupations = data['occupation'].unique()\n",
    "OccupationLabels = {}\n",
    "for occupation in occupations:\n",
    "    result = np.where((occupations==occupation))\n",
    "    OccupationLabels[occupation] = result[0][0]\n",
    "data_with_labels['occupationLabels'] = data_with_labels['occupation']\n",
    "data_with_labels['occupationLabels'] = data['occupationLabels'].map(OccupationLabels) "
   ]
  },
  {
   "cell_type": "code",
   "execution_count": 7,
   "id": "recorded-friendly",
   "metadata": {},
   "outputs": [],
   "source": [
    "relationships = data['relationship'].unique()\n",
    "RelationshipLabels = {}\n",
    "for relationship in relationships:\n",
    "    result = np.where((relationships==relationship))\n",
    "    RelationshipLabels[relationship] = result[0][0]\n",
    "data_with_labels['relationshipLabels'] = data_with_labels['relationship']\n",
    "data_with_labels['relationshipLabels'] = data['relationshipLabels'].map(RelationshipLabels)"
   ]
  },
  {
   "cell_type": "code",
   "execution_count": 8,
   "id": "desirable-acrobat",
   "metadata": {},
   "outputs": [],
   "source": [
    "races = data['race'].unique()\n",
    "RaceLabels = {}\n",
    "for race in races:\n",
    "    result = np.where((races==race))\n",
    "    RaceLabels[race] = result[0][0]\n",
    "data_with_labels['raceLabels'] = data_with_labels['race']\n",
    "data_with_labels['raceLabels'] = data['raceLabels'].map(RaceLabels) "
   ]
  },
  {
   "cell_type": "code",
   "execution_count": 9,
   "id": "swiss-timeline",
   "metadata": {},
   "outputs": [],
   "source": [
    "sexes = data['sex'].unique()\n",
    "SexLabels = {}\n",
    "for sex in sexes:\n",
    "    result = np.where((sexes==sex))\n",
    "    SexLabels[sex] = result[0][0]\n",
    "data_with_labels['sexLabels'] = data_with_labels['sex']\n",
    "data_with_labels['sexLabels'] = data['sexLabels'].map(SexLabels) "
   ]
  },
  {
   "cell_type": "code",
   "execution_count": 10,
   "id": "novel-tanzania",
   "metadata": {},
   "outputs": [],
   "source": [
    "countries = data['native-country'].unique()\n",
    "CountryLabels = {}\n",
    "for country in countries:\n",
    "    result = np.where((countries==country))\n",
    "    CountryLabels[country] = result[0][0]\n",
    "data_with_labels['countryLabels'] = data_with_labels['native-country']\n",
    "data_with_labels['countryLabels'] = data['countryLabels'].map(CountryLabels) \n"
   ]
  },
  {
   "cell_type": "code",
   "execution_count": 11,
   "metadata": {},
   "outputs": [],
   "source": [
    "incomes = data['income'].unique()\n",
    "IncomeLabels = {}\n",
    "for income in incomes:\n",
    "    result = np.where((incomes==income))\n",
    "    IncomeLabels[income] = result[0][0]\n",
    "data_with_labels['incomeLabels'] = data_with_labels['income']\n",
    "data_with_labels['incomeLabels'] = data['incomeLabels'].map(IncomeLabels) "
   ]
  },
  {
   "cell_type": "code",
   "execution_count": 12,
   "id": "demonstrated-dressing",
   "metadata": {},
   "outputs": [
    {
     "output_type": "execute_result",
     "data": {
      "text/plain": [
       "       age  education-num  workclassLabels  maritalLabels  occupationLabels  \\\n",
       "0       39             13                0              0                 0   \n",
       "1       50             13                1              1                 1   \n",
       "2       38              9                2              2                 2   \n",
       "3       53              7                2              1                 2   \n",
       "4       28             13                2              1                 3   \n",
       "...    ...            ...              ...            ...               ...   \n",
       "32556   27             12                2              1                10   \n",
       "32557   40              9                2              1                 9   \n",
       "32558   58              9                2              6                 0   \n",
       "32559   22              9                2              0                 0   \n",
       "32560   52              9                6              1                 1   \n",
       "\n",
       "       relationshipLabels  raceLabels  sexLabels  countryLabels  \\\n",
       "0                       0           0          0              0   \n",
       "1                       1           0          0              0   \n",
       "2                       0           0          0              0   \n",
       "3                       1           1          0              0   \n",
       "4                       2           1          1              1   \n",
       "...                   ...         ...        ...            ...   \n",
       "32556                   2           0          1              0   \n",
       "32557                   1           0          0              0   \n",
       "32558                   4           0          1              0   \n",
       "32559                   3           0          0              0   \n",
       "32560                   2           0          1              0   \n",
       "\n",
       "       hours-per-week  incomeLabels  \n",
       "0                  40             0  \n",
       "1                  13             0  \n",
       "2                  40             0  \n",
       "3                  40             0  \n",
       "4                  40             0  \n",
       "...               ...           ...  \n",
       "32556              38             0  \n",
       "32557              40             1  \n",
       "32558              40             0  \n",
       "32559              20             0  \n",
       "32560              40             1  \n",
       "\n",
       "[32561 rows x 11 columns]"
      ],
      "text/html": "<div>\n<style scoped>\n    .dataframe tbody tr th:only-of-type {\n        vertical-align: middle;\n    }\n\n    .dataframe tbody tr th {\n        vertical-align: top;\n    }\n\n    .dataframe thead th {\n        text-align: right;\n    }\n</style>\n<table border=\"1\" class=\"dataframe\">\n  <thead>\n    <tr style=\"text-align: right;\">\n      <th></th>\n      <th>age</th>\n      <th>education-num</th>\n      <th>workclassLabels</th>\n      <th>maritalLabels</th>\n      <th>occupationLabels</th>\n      <th>relationshipLabels</th>\n      <th>raceLabels</th>\n      <th>sexLabels</th>\n      <th>countryLabels</th>\n      <th>hours-per-week</th>\n      <th>incomeLabels</th>\n    </tr>\n  </thead>\n  <tbody>\n    <tr>\n      <th>0</th>\n      <td>39</td>\n      <td>13</td>\n      <td>0</td>\n      <td>0</td>\n      <td>0</td>\n      <td>0</td>\n      <td>0</td>\n      <td>0</td>\n      <td>0</td>\n      <td>40</td>\n      <td>0</td>\n    </tr>\n    <tr>\n      <th>1</th>\n      <td>50</td>\n      <td>13</td>\n      <td>1</td>\n      <td>1</td>\n      <td>1</td>\n      <td>1</td>\n      <td>0</td>\n      <td>0</td>\n      <td>0</td>\n      <td>13</td>\n      <td>0</td>\n    </tr>\n    <tr>\n      <th>2</th>\n      <td>38</td>\n      <td>9</td>\n      <td>2</td>\n      <td>2</td>\n      <td>2</td>\n      <td>0</td>\n      <td>0</td>\n      <td>0</td>\n      <td>0</td>\n      <td>40</td>\n      <td>0</td>\n    </tr>\n    <tr>\n      <th>3</th>\n      <td>53</td>\n      <td>7</td>\n      <td>2</td>\n      <td>1</td>\n      <td>2</td>\n      <td>1</td>\n      <td>1</td>\n      <td>0</td>\n      <td>0</td>\n      <td>40</td>\n      <td>0</td>\n    </tr>\n    <tr>\n      <th>4</th>\n      <td>28</td>\n      <td>13</td>\n      <td>2</td>\n      <td>1</td>\n      <td>3</td>\n      <td>2</td>\n      <td>1</td>\n      <td>1</td>\n      <td>1</td>\n      <td>40</td>\n      <td>0</td>\n    </tr>\n    <tr>\n      <th>...</th>\n      <td>...</td>\n      <td>...</td>\n      <td>...</td>\n      <td>...</td>\n      <td>...</td>\n      <td>...</td>\n      <td>...</td>\n      <td>...</td>\n      <td>...</td>\n      <td>...</td>\n      <td>...</td>\n    </tr>\n    <tr>\n      <th>32556</th>\n      <td>27</td>\n      <td>12</td>\n      <td>2</td>\n      <td>1</td>\n      <td>10</td>\n      <td>2</td>\n      <td>0</td>\n      <td>1</td>\n      <td>0</td>\n      <td>38</td>\n      <td>0</td>\n    </tr>\n    <tr>\n      <th>32557</th>\n      <td>40</td>\n      <td>9</td>\n      <td>2</td>\n      <td>1</td>\n      <td>9</td>\n      <td>1</td>\n      <td>0</td>\n      <td>0</td>\n      <td>0</td>\n      <td>40</td>\n      <td>1</td>\n    </tr>\n    <tr>\n      <th>32558</th>\n      <td>58</td>\n      <td>9</td>\n      <td>2</td>\n      <td>6</td>\n      <td>0</td>\n      <td>4</td>\n      <td>0</td>\n      <td>1</td>\n      <td>0</td>\n      <td>40</td>\n      <td>0</td>\n    </tr>\n    <tr>\n      <th>32559</th>\n      <td>22</td>\n      <td>9</td>\n      <td>2</td>\n      <td>0</td>\n      <td>0</td>\n      <td>3</td>\n      <td>0</td>\n      <td>0</td>\n      <td>0</td>\n      <td>20</td>\n      <td>0</td>\n    </tr>\n    <tr>\n      <th>32560</th>\n      <td>52</td>\n      <td>9</td>\n      <td>6</td>\n      <td>1</td>\n      <td>1</td>\n      <td>2</td>\n      <td>0</td>\n      <td>1</td>\n      <td>0</td>\n      <td>40</td>\n      <td>1</td>\n    </tr>\n  </tbody>\n</table>\n<p>32561 rows × 11 columns</p>\n</div>"
     },
     "metadata": {},
     "execution_count": 12
    }
   ],
   "source": [
    "labeled_data = data_with_labels[['age','education-num','workclassLabels','maritalLabels','occupationLabels','relationshipLabels','raceLabels','sexLabels','countryLabels','hours-per-week','incomeLabels']]\n",
    "labeled_data"
   ]
  },
  {
   "cell_type": "code",
   "execution_count": 13,
   "id": "respiratory-colombia",
   "metadata": {},
   "outputs": [],
   "source": [
    "# Set the seed value for the notebook so the results are reproducible\n",
    "from numpy.random import seed\n",
    "seed(42) "
   ]
  },
  {
   "cell_type": "code",
   "execution_count": 13,
   "id": "atlantic-generation",
   "metadata": {},
   "outputs": [],
   "source": [
    "X = data_with_labels[['age','education-num','workclassLabels','maritalLabels','occupationLabels','raceLabels','sexLabels','hours-per-week','countryLabels']]\n",
    "y = data_with_labels[['incomeLabels']]"
   ]
  },
  {
   "cell_type": "code",
   "execution_count": 14,
   "id": "parallel-confidentiality",
   "metadata": {},
   "outputs": [],
   "source": [
    "from sklearn.model_selection import train_test_split\n",
    "\n",
    "X_train, X_test, y_train, y_test = train_test_split(X, y, random_state=1)"
   ]
  },
  {
   "cell_type": "code",
   "execution_count": null,
   "id": "bored-residence",
   "metadata": {},
   "outputs": [],
   "source": []
  },
  {
   "cell_type": "markdown",
   "id": "voluntary-lecture",
   "metadata": {},
   "source": [
    "## Data Processing\n"
   ]
  },
  {
   "cell_type": "code",
   "execution_count": 15,
   "id": "narrow-deputy",
   "metadata": {},
   "outputs": [],
   "source": [
    "from sklearn.preprocessing import StandardScaler\n",
    "\n",
    "X_scaler = StandardScaler().fit(X_train) "
   ]
  },
  {
   "cell_type": "code",
   "execution_count": 16,
   "id": "bound-earthquake",
   "metadata": {},
   "outputs": [],
   "source": [
    "X_train_scaled = X_scaler.transform(X_train)\n",
    "X_test_scaled = X_scaler.transform(X_test)"
   ]
  },
  {
   "cell_type": "code",
   "execution_count": 17,
   "id": "handy-malaysia",
   "metadata": {},
   "outputs": [],
   "source": [
    "from tensorflow.keras.utils import to_categorical"
   ]
  },
  {
   "cell_type": "code",
   "execution_count": 18,
   "id": "overall-patrol",
   "metadata": {},
   "outputs": [
    {
     "output_type": "execute_result",
     "data": {
      "text/plain": [
       "array([[1., 0.],\n",
       "       [1., 0.],\n",
       "       [1., 0.],\n",
       "       ...,\n",
       "       [1., 0.],\n",
       "       [1., 0.],\n",
       "       [0., 1.]], dtype=float32)"
      ]
     },
     "metadata": {},
     "execution_count": 18
    }
   ],
   "source": [
    "# One-hot encoding\n",
    "y_train_categorical = to_categorical(y_train)\n",
    "y_test_categorical = to_categorical(y_test)\n",
    "y_train_categorical"
   ]
  },
  {
   "cell_type": "code",
   "execution_count": 19,
   "id": "synthetic-tactics",
   "metadata": {},
   "outputs": [],
   "source": [
    "from tensorflow.keras.models import Sequential\n",
    "\n",
    "model = Sequential()"
   ]
  },
  {
   "cell_type": "code",
   "execution_count": 20,
   "id": "herbal-vintage",
   "metadata": {},
   "outputs": [],
   "source": [
    "from tensorflow.keras.layers import Dense\n",
    "number_inputs = 9\n",
    "number_hidden_nodes = 10\n",
    "model.add(Dense(units=number_hidden_nodes,\n",
    "                activation='relu', input_dim=number_inputs))"
   ]
  },
  {
   "cell_type": "code",
   "execution_count": 21,
   "id": "immune-science",
   "metadata": {},
   "outputs": [],
   "source": [
    "number_classes = 2\n",
    "model.add(Dense(units=number_classes, activation='softmax'))"
   ]
  },
  {
   "cell_type": "code",
   "execution_count": 22,
   "id": "velvet-belle",
   "metadata": {},
   "outputs": [
    {
     "output_type": "stream",
     "name": "stdout",
     "text": [
      "Model: \"sequential\"\n_________________________________________________________________\nLayer (type)                 Output Shape              Param #   \n=================================================================\ndense (Dense)                (None, 10)                100       \n_________________________________________________________________\ndense_1 (Dense)              (None, 2)                 22        \n=================================================================\nTotal params: 122\nTrainable params: 122\nNon-trainable params: 0\n_________________________________________________________________\n"
     ]
    }
   ],
   "source": [
    "model.summary()"
   ]
  },
  {
   "cell_type": "code",
   "execution_count": 23,
   "id": "indian-ceiling",
   "metadata": {},
   "outputs": [],
   "source": [
    "# Use categorical crossentropy for categorical data and mean squared error for regression\n",
    "# Hint: your output layer in this example is using software for logistic regression (categorical)\n",
    "# If your output layer activation was `linear` then you may want to use `mse` for loss\n",
    "model.compile(optimizer='adam',\n",
    "              loss='categorical_crossentropy',\n",
    "              metrics=['accuracy'])"
   ]
  },
  {
   "cell_type": "code",
   "execution_count": 24,
   "id": "therapeutic-niger",
   "metadata": {},
   "outputs": [
    {
     "output_type": "stream",
     "name": "stdout",
     "text": [
      "Train on 24420 samples\n",
      "Epoch 1/100\n",
      "24420/24420 - 1s - loss: 0.4520 - accuracy: 0.7754\n",
      "Epoch 2/100\n",
      "24420/24420 - 1s - loss: 0.3962 - accuracy: 0.8125\n",
      "Epoch 3/100\n",
      "24420/24420 - 1s - loss: 0.3860 - accuracy: 0.8174\n",
      "Epoch 4/100\n",
      "24420/24420 - 1s - loss: 0.3810 - accuracy: 0.8194\n",
      "Epoch 5/100\n",
      "24420/24420 - 1s - loss: 0.3784 - accuracy: 0.8187\n",
      "Epoch 6/100\n",
      "24420/24420 - 1s - loss: 0.3765 - accuracy: 0.8199\n",
      "Epoch 7/100\n",
      "24420/24420 - 1s - loss: 0.3755 - accuracy: 0.8209\n",
      "Epoch 8/100\n",
      "24420/24420 - 1s - loss: 0.3740 - accuracy: 0.8226\n",
      "Epoch 9/100\n",
      "24420/24420 - 1s - loss: 0.3729 - accuracy: 0.8228\n",
      "Epoch 10/100\n",
      "24420/24420 - 1s - loss: 0.3718 - accuracy: 0.8237\n",
      "Epoch 11/100\n",
      "24420/24420 - 1s - loss: 0.3708 - accuracy: 0.8244\n",
      "Epoch 12/100\n",
      "24420/24420 - 1s - loss: 0.3700 - accuracy: 0.8254\n",
      "Epoch 13/100\n",
      "24420/24420 - 1s - loss: 0.3689 - accuracy: 0.8247\n",
      "Epoch 14/100\n",
      "24420/24420 - 1s - loss: 0.3681 - accuracy: 0.8256\n",
      "Epoch 15/100\n",
      "24420/24420 - 1s - loss: 0.3668 - accuracy: 0.8260\n",
      "Epoch 16/100\n",
      "24420/24420 - 1s - loss: 0.3663 - accuracy: 0.8258\n",
      "Epoch 17/100\n",
      "24420/24420 - 1s - loss: 0.3656 - accuracy: 0.8258\n",
      "Epoch 18/100\n",
      "24420/24420 - 1s - loss: 0.3650 - accuracy: 0.8270\n",
      "Epoch 19/100\n",
      "24420/24420 - 1s - loss: 0.3643 - accuracy: 0.8271\n",
      "Epoch 20/100\n",
      "24420/24420 - 1s - loss: 0.3636 - accuracy: 0.8283\n",
      "Epoch 21/100\n",
      "24420/24420 - 1s - loss: 0.3631 - accuracy: 0.8275\n",
      "Epoch 22/100\n",
      "24420/24420 - 1s - loss: 0.3628 - accuracy: 0.8274\n",
      "Epoch 23/100\n",
      "24420/24420 - 1s - loss: 0.3619 - accuracy: 0.8276\n",
      "Epoch 24/100\n",
      "24420/24420 - 1s - loss: 0.3617 - accuracy: 0.8283\n",
      "Epoch 25/100\n",
      "24420/24420 - 1s - loss: 0.3612 - accuracy: 0.8287\n",
      "Epoch 26/100\n",
      "24420/24420 - 1s - loss: 0.3602 - accuracy: 0.8294\n",
      "Epoch 27/100\n",
      "24420/24420 - 1s - loss: 0.3599 - accuracy: 0.8283\n",
      "Epoch 28/100\n",
      "24420/24420 - 1s - loss: 0.3592 - accuracy: 0.8298\n",
      "Epoch 29/100\n",
      "24420/24420 - 1s - loss: 0.3586 - accuracy: 0.8296\n",
      "Epoch 30/100\n",
      "24420/24420 - 1s - loss: 0.3582 - accuracy: 0.8303\n",
      "Epoch 31/100\n",
      "24420/24420 - 1s - loss: 0.3577 - accuracy: 0.8300\n",
      "Epoch 32/100\n",
      "24420/24420 - 1s - loss: 0.3572 - accuracy: 0.8305\n",
      "Epoch 33/100\n",
      "24420/24420 - 1s - loss: 0.3571 - accuracy: 0.8297\n",
      "Epoch 34/100\n",
      "24420/24420 - 1s - loss: 0.3569 - accuracy: 0.8309\n",
      "Epoch 35/100\n",
      "24420/24420 - 1s - loss: 0.3566 - accuracy: 0.8308\n",
      "Epoch 36/100\n",
      "24420/24420 - 1s - loss: 0.3564 - accuracy: 0.8315\n",
      "Epoch 37/100\n",
      "24420/24420 - 1s - loss: 0.3560 - accuracy: 0.8303\n",
      "Epoch 38/100\n",
      "24420/24420 - 1s - loss: 0.3559 - accuracy: 0.8318\n",
      "Epoch 39/100\n",
      "24420/24420 - 1s - loss: 0.3560 - accuracy: 0.8315\n",
      "Epoch 40/100\n",
      "24420/24420 - 1s - loss: 0.3559 - accuracy: 0.8305\n",
      "Epoch 41/100\n",
      "24420/24420 - 1s - loss: 0.3555 - accuracy: 0.8308\n",
      "Epoch 42/100\n",
      "24420/24420 - 1s - loss: 0.3555 - accuracy: 0.8315\n",
      "Epoch 43/100\n",
      "24420/24420 - 1s - loss: 0.3553 - accuracy: 0.8314\n",
      "Epoch 44/100\n",
      "24420/24420 - 1s - loss: 0.3550 - accuracy: 0.8310\n",
      "Epoch 45/100\n",
      "24420/24420 - 1s - loss: 0.3549 - accuracy: 0.8312\n",
      "Epoch 46/100\n",
      "24420/24420 - 1s - loss: 0.3548 - accuracy: 0.8317\n",
      "Epoch 47/100\n",
      "24420/24420 - 1s - loss: 0.3549 - accuracy: 0.8304\n",
      "Epoch 48/100\n",
      "24420/24420 - 1s - loss: 0.3546 - accuracy: 0.8305\n",
      "Epoch 49/100\n",
      "24420/24420 - 1s - loss: 0.3547 - accuracy: 0.8305\n",
      "Epoch 50/100\n",
      "24420/24420 - 1s - loss: 0.3544 - accuracy: 0.8303\n",
      "Epoch 51/100\n",
      "24420/24420 - 1s - loss: 0.3541 - accuracy: 0.8315\n",
      "Epoch 52/100\n",
      "24420/24420 - 1s - loss: 0.3541 - accuracy: 0.8310\n",
      "Epoch 53/100\n",
      "24420/24420 - 1s - loss: 0.3542 - accuracy: 0.8307\n",
      "Epoch 54/100\n",
      "24420/24420 - 1s - loss: 0.3542 - accuracy: 0.8310\n",
      "Epoch 55/100\n",
      "24420/24420 - 1s - loss: 0.3545 - accuracy: 0.8319\n",
      "Epoch 56/100\n",
      "24420/24420 - 1s - loss: 0.3541 - accuracy: 0.8317\n",
      "Epoch 57/100\n",
      "24420/24420 - 1s - loss: 0.3541 - accuracy: 0.8309\n",
      "Epoch 58/100\n",
      "24420/24420 - 1s - loss: 0.3540 - accuracy: 0.8313\n",
      "Epoch 59/100\n",
      "24420/24420 - 1s - loss: 0.3538 - accuracy: 0.8306\n",
      "Epoch 60/100\n",
      "24420/24420 - 1s - loss: 0.3538 - accuracy: 0.8315\n",
      "Epoch 61/100\n",
      "24420/24420 - 1s - loss: 0.3538 - accuracy: 0.8319\n",
      "Epoch 62/100\n",
      "24420/24420 - 1s - loss: 0.3536 - accuracy: 0.8319\n",
      "Epoch 63/100\n",
      "24420/24420 - 1s - loss: 0.3538 - accuracy: 0.8326\n",
      "Epoch 64/100\n",
      "24420/24420 - 1s - loss: 0.3535 - accuracy: 0.8316\n",
      "Epoch 65/100\n",
      "24420/24420 - 1s - loss: 0.3532 - accuracy: 0.8311\n",
      "Epoch 66/100\n",
      "24420/24420 - 1s - loss: 0.3532 - accuracy: 0.8318\n",
      "Epoch 67/100\n",
      "24420/24420 - 1s - loss: 0.3533 - accuracy: 0.8322\n",
      "Epoch 68/100\n",
      "24420/24420 - 1s - loss: 0.3532 - accuracy: 0.8328\n",
      "Epoch 69/100\n",
      "24420/24420 - 1s - loss: 0.3530 - accuracy: 0.8330\n",
      "Epoch 70/100\n",
      "24420/24420 - 1s - loss: 0.3531 - accuracy: 0.8304\n",
      "Epoch 71/100\n",
      "24420/24420 - 1s - loss: 0.3528 - accuracy: 0.8315\n",
      "Epoch 72/100\n",
      "24420/24420 - 1s - loss: 0.3529 - accuracy: 0.8321\n",
      "Epoch 73/100\n",
      "24420/24420 - 1s - loss: 0.3527 - accuracy: 0.8326\n",
      "Epoch 74/100\n",
      "24420/24420 - 1s - loss: 0.3528 - accuracy: 0.8329\n",
      "Epoch 75/100\n",
      "24420/24420 - 1s - loss: 0.3528 - accuracy: 0.8316\n",
      "Epoch 76/100\n",
      "24420/24420 - 1s - loss: 0.3526 - accuracy: 0.8322\n",
      "Epoch 77/100\n",
      "24420/24420 - 1s - loss: 0.3526 - accuracy: 0.8319\n",
      "Epoch 78/100\n",
      "24420/24420 - 1s - loss: 0.3529 - accuracy: 0.8324\n",
      "Epoch 79/100\n",
      "24420/24420 - 1s - loss: 0.3524 - accuracy: 0.8319\n",
      "Epoch 80/100\n",
      "24420/24420 - 1s - loss: 0.3522 - accuracy: 0.8330\n",
      "Epoch 81/100\n",
      "24420/24420 - 1s - loss: 0.3523 - accuracy: 0.8327\n",
      "Epoch 82/100\n",
      "24420/24420 - 1s - loss: 0.3524 - accuracy: 0.8330\n",
      "Epoch 83/100\n",
      "24420/24420 - 1s - loss: 0.3523 - accuracy: 0.8332\n",
      "Epoch 84/100\n",
      "24420/24420 - 1s - loss: 0.3524 - accuracy: 0.8324\n",
      "Epoch 85/100\n",
      "24420/24420 - 1s - loss: 0.3521 - accuracy: 0.8330\n",
      "Epoch 86/100\n",
      "24420/24420 - 1s - loss: 0.3525 - accuracy: 0.8315\n",
      "Epoch 87/100\n",
      "24420/24420 - 1s - loss: 0.3521 - accuracy: 0.8324\n",
      "Epoch 88/100\n",
      "24420/24420 - 1s - loss: 0.3521 - accuracy: 0.8335\n",
      "Epoch 89/100\n",
      "24420/24420 - 1s - loss: 0.3521 - accuracy: 0.8336\n",
      "Epoch 90/100\n",
      "24420/24420 - 1s - loss: 0.3520 - accuracy: 0.8339\n",
      "Epoch 91/100\n",
      "24420/24420 - 1s - loss: 0.3522 - accuracy: 0.8335\n",
      "Epoch 92/100\n",
      "24420/24420 - 1s - loss: 0.3522 - accuracy: 0.8330\n",
      "Epoch 93/100\n",
      "24420/24420 - 1s - loss: 0.3520 - accuracy: 0.8323\n",
      "Epoch 94/100\n",
      "24420/24420 - 1s - loss: 0.3520 - accuracy: 0.8330\n",
      "Epoch 95/100\n",
      "24420/24420 - 1s - loss: 0.3516 - accuracy: 0.8335\n",
      "Epoch 96/100\n",
      "24420/24420 - 1s - loss: 0.3520 - accuracy: 0.8328\n",
      "Epoch 97/100\n",
      "24420/24420 - 1s - loss: 0.3516 - accuracy: 0.8334\n",
      "Epoch 98/100\n",
      "24420/24420 - 1s - loss: 0.3520 - accuracy: 0.8330\n",
      "Epoch 99/100\n",
      "24420/24420 - 1s - loss: 0.3518 - accuracy: 0.8336\n",
      "Epoch 100/100\n",
      "24420/24420 - 1s - loss: 0.3519 - accuracy: 0.8335\n"
     ]
    },
    {
     "output_type": "execute_result",
     "data": {
      "text/plain": [
       "<tensorflow.python.keras.callbacks.History at 0x1cbf92a5ba8>"
      ]
     },
     "metadata": {},
     "execution_count": 24
    }
   ],
   "source": [
    "# Fit (train) the model\n",
    "model.fit(\n",
    "    X_train_scaled,\n",
    "    y_train_categorical,\n",
    "    epochs=100,\n",
    "    shuffle=True,\n",
    "    verbose=2\n",
    ")"
   ]
  },
  {
   "cell_type": "code",
   "execution_count": 25,
   "id": "greatest-information",
   "metadata": {},
   "outputs": [
    {
     "output_type": "stream",
     "name": "stdout",
     "text": [
      "8141/8141 - 0s - loss: 0.3454 - accuracy: 0.8375\n",
      "Loss: 0.34537645272417306, Accuracy: 0.8374892473220825\n"
     ]
    }
   ],
   "source": [
    "# Evaluate the model using the testing data\n",
    "model_loss, model_accuracy = model.evaluate(\n",
    "    X_test_scaled, y_test_categorical, verbose=2)\n",
    "print(f\"Loss: {model_loss}, Accuracy: {model_accuracy}\")"
   ]
  },
  {
   "cell_type": "markdown",
   "id": "breeding-preserve",
   "metadata": {},
   "source": [
    "## Making Predictions with new data"
   ]
  },
  {
   "cell_type": "code",
   "execution_count": 27,
   "id": "widespread-guess",
   "metadata": {},
   "outputs": [
    {
     "output_type": "stream",
     "name": "stdout",
     "text": [
      "Predicted class: [[0.8886916  0.11130838]]\n"
     ]
    }
   ],
   "source": [
    "import numpy as np\n",
    "new_data = np.array([[52,9,6,1,1,0,1,40,0]])\n",
    "print(f\"Predicted class: {model.predict(new_data)}\")"
   ]
  },
  {
   "cell_type": "code",
   "execution_count": 28,
   "id": "conceptual-qualification",
   "metadata": {},
   "outputs": [],
   "source": [
    "model.save('neural_network_trained.h5')"
   ]
  },
  {
   "cell_type": "code",
   "execution_count": null,
   "metadata": {},
   "outputs": [],
   "source": []
  }
 ],
 "metadata": {
  "kernelspec": {
   "name": "python3613jvsc74a57bd0931f5c7d5003f233dddb86e35437c7b653d735f440e4a8e962f913485bc47f21",
   "display_name": "Python 3.6.13 64-bit ('PythonAdv': conda)"
  },
  "language_info": {
   "codemirror_mode": {
    "name": "ipython",
    "version": 3
   },
   "file_extension": ".py",
   "mimetype": "text/x-python",
   "name": "python",
   "nbconvert_exporter": "python",
   "pygments_lexer": "ipython3",
   "version": "3.6.13"
  }
 },
 "nbformat": 4,
 "nbformat_minor": 5
}